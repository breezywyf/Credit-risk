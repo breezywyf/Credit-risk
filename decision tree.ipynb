{
 "cells": [
  {
   "cell_type": "code",
   "execution_count": 2,
   "metadata": {},
   "outputs": [],
   "source": [
    "import pandas as pd\n",
    "import numpy as np\n",
    "from sklearn.tree import DecisionTreeClassifier # Import Decision Tree Classifier\n",
    "from sklearn.model_selection import train_test_split # Import train_test_split function\n",
    "from sklearn import metrics #Import scikit-learn metrics module for accuracy calculation\n",
    "import matplotlib as mpl\n",
    "import matplotlib.pyplot as plt\n",
    "from matplotlib import pyplot\n",
    "import sklearn.metrics\n",
    "import seaborn as sns\n",
    "from sklearn.metrics import  accuracy_score, f1_score, precision_score, recall_score, roc_auc_score\n",
    "from scipy import stats\n",
    "%matplotlib inline \n",
    "from collections import Counter\n",
    "from sklearn.metrics import roc_curve, auc\n",
    "from sklearn.metrics import classification_report\n",
    "from sklearn.ensemble import  AdaBoostClassifier"
   ]
  },
  {
   "cell_type": "code",
   "execution_count": 3,
   "metadata": {},
   "outputs": [],
   "source": [
    "from IPython.core.interactiveshell import InteractiveShell\n",
    "InteractiveShell.ast_node_interactivity = \"all\"#让子模块内每句语言都输出结果"
   ]
  },
  {
   "cell_type": "code",
   "execution_count": 4,
   "metadata": {},
   "outputs": [],
   "source": [
    "data_df = pd.read_csv('old.csv')\n"
   ]
  },
  {
   "cell_type": "code",
   "execution_count": 5,
   "metadata": {},
   "outputs": [
    {
     "data": {
      "text/html": [
       "<div>\n",
       "<style scoped>\n",
       "    .dataframe tbody tr th:only-of-type {\n",
       "        vertical-align: middle;\n",
       "    }\n",
       "\n",
       "    .dataframe tbody tr th {\n",
       "        vertical-align: top;\n",
       "    }\n",
       "\n",
       "    .dataframe thead th {\n",
       "        text-align: right;\n",
       "    }\n",
       "</style>\n",
       "<table border=\"1\" class=\"dataframe\">\n",
       "  <thead>\n",
       "    <tr style=\"text-align: right;\">\n",
       "      <th></th>\n",
       "      <th>SCOREB</th>\n",
       "      <th>bad</th>\n",
       "    </tr>\n",
       "  </thead>\n",
       "  <tbody>\n",
       "    <tr>\n",
       "      <th>count</th>\n",
       "      <td>473666.000000</td>\n",
       "      <td>473666.000000</td>\n",
       "    </tr>\n",
       "    <tr>\n",
       "      <th>mean</th>\n",
       "      <td>705.809167</td>\n",
       "      <td>0.010374</td>\n",
       "    </tr>\n",
       "    <tr>\n",
       "      <th>std</th>\n",
       "      <td>49.742296</td>\n",
       "      <td>0.101325</td>\n",
       "    </tr>\n",
       "    <tr>\n",
       "      <th>min</th>\n",
       "      <td>447.000000</td>\n",
       "      <td>0.000000</td>\n",
       "    </tr>\n",
       "    <tr>\n",
       "      <th>25%</th>\n",
       "      <td>672.000000</td>\n",
       "      <td>0.000000</td>\n",
       "    </tr>\n",
       "    <tr>\n",
       "      <th>50%</th>\n",
       "      <td>707.000000</td>\n",
       "      <td>0.000000</td>\n",
       "    </tr>\n",
       "    <tr>\n",
       "      <th>75%</th>\n",
       "      <td>741.000000</td>\n",
       "      <td>0.000000</td>\n",
       "    </tr>\n",
       "    <tr>\n",
       "      <th>max</th>\n",
       "      <td>799.000000</td>\n",
       "      <td>1.000000</td>\n",
       "    </tr>\n",
       "  </tbody>\n",
       "</table>\n",
       "</div>"
      ],
      "text/plain": [
       "              SCOREB            bad\n",
       "count  473666.000000  473666.000000\n",
       "mean      705.809167       0.010374\n",
       "std        49.742296       0.101325\n",
       "min       447.000000       0.000000\n",
       "25%       672.000000       0.000000\n",
       "50%       707.000000       0.000000\n",
       "75%       741.000000       0.000000\n",
       "max       799.000000       1.000000"
      ]
     },
     "execution_count": 5,
     "metadata": {},
     "output_type": "execute_result"
    },
    {
     "data": {
      "text/html": [
       "<div>\n",
       "<style scoped>\n",
       "    .dataframe tbody tr th:only-of-type {\n",
       "        vertical-align: middle;\n",
       "    }\n",
       "\n",
       "    .dataframe tbody tr th {\n",
       "        vertical-align: top;\n",
       "    }\n",
       "\n",
       "    .dataframe thead th {\n",
       "        text-align: right;\n",
       "    }\n",
       "</style>\n",
       "<table border=\"1\" class=\"dataframe\">\n",
       "  <thead>\n",
       "    <tr style=\"text-align: right;\">\n",
       "      <th></th>\n",
       "      <th>SCOREB</th>\n",
       "    </tr>\n",
       "  </thead>\n",
       "  <tbody>\n",
       "    <tr>\n",
       "      <th>0</th>\n",
       "      <td>729</td>\n",
       "    </tr>\n",
       "    <tr>\n",
       "      <th>1</th>\n",
       "      <td>730</td>\n",
       "    </tr>\n",
       "    <tr>\n",
       "      <th>2</th>\n",
       "      <td>730</td>\n",
       "    </tr>\n",
       "    <tr>\n",
       "      <th>3</th>\n",
       "      <td>678</td>\n",
       "    </tr>\n",
       "    <tr>\n",
       "      <th>4</th>\n",
       "      <td>734</td>\n",
       "    </tr>\n",
       "    <tr>\n",
       "      <th>5</th>\n",
       "      <td>734</td>\n",
       "    </tr>\n",
       "    <tr>\n",
       "      <th>6</th>\n",
       "      <td>716</td>\n",
       "    </tr>\n",
       "    <tr>\n",
       "      <th>7</th>\n",
       "      <td>733</td>\n",
       "    </tr>\n",
       "    <tr>\n",
       "      <th>8</th>\n",
       "      <td>728</td>\n",
       "    </tr>\n",
       "    <tr>\n",
       "      <th>9</th>\n",
       "      <td>728</td>\n",
       "    </tr>\n",
       "    <tr>\n",
       "      <th>10</th>\n",
       "      <td>696</td>\n",
       "    </tr>\n",
       "    <tr>\n",
       "      <th>11</th>\n",
       "      <td>696</td>\n",
       "    </tr>\n",
       "    <tr>\n",
       "      <th>12</th>\n",
       "      <td>740</td>\n",
       "    </tr>\n",
       "    <tr>\n",
       "      <th>13</th>\n",
       "      <td>696</td>\n",
       "    </tr>\n",
       "    <tr>\n",
       "      <th>14</th>\n",
       "      <td>750</td>\n",
       "    </tr>\n",
       "    <tr>\n",
       "      <th>15</th>\n",
       "      <td>753</td>\n",
       "    </tr>\n",
       "    <tr>\n",
       "      <th>16</th>\n",
       "      <td>774</td>\n",
       "    </tr>\n",
       "    <tr>\n",
       "      <th>17</th>\n",
       "      <td>674</td>\n",
       "    </tr>\n",
       "    <tr>\n",
       "      <th>18</th>\n",
       "      <td>753</td>\n",
       "    </tr>\n",
       "    <tr>\n",
       "      <th>19</th>\n",
       "      <td>753</td>\n",
       "    </tr>\n",
       "    <tr>\n",
       "      <th>20</th>\n",
       "      <td>706</td>\n",
       "    </tr>\n",
       "    <tr>\n",
       "      <th>21</th>\n",
       "      <td>709</td>\n",
       "    </tr>\n",
       "    <tr>\n",
       "      <th>22</th>\n",
       "      <td>706</td>\n",
       "    </tr>\n",
       "    <tr>\n",
       "      <th>23</th>\n",
       "      <td>760</td>\n",
       "    </tr>\n",
       "    <tr>\n",
       "      <th>24</th>\n",
       "      <td>760</td>\n",
       "    </tr>\n",
       "    <tr>\n",
       "      <th>25</th>\n",
       "      <td>760</td>\n",
       "    </tr>\n",
       "    <tr>\n",
       "      <th>26</th>\n",
       "      <td>760</td>\n",
       "    </tr>\n",
       "    <tr>\n",
       "      <th>27</th>\n",
       "      <td>734</td>\n",
       "    </tr>\n",
       "    <tr>\n",
       "      <th>28</th>\n",
       "      <td>750</td>\n",
       "    </tr>\n",
       "    <tr>\n",
       "      <th>29</th>\n",
       "      <td>750</td>\n",
       "    </tr>\n",
       "    <tr>\n",
       "      <th>...</th>\n",
       "      <td>...</td>\n",
       "    </tr>\n",
       "    <tr>\n",
       "      <th>473636</th>\n",
       "      <td>686</td>\n",
       "    </tr>\n",
       "    <tr>\n",
       "      <th>473637</th>\n",
       "      <td>687</td>\n",
       "    </tr>\n",
       "    <tr>\n",
       "      <th>473638</th>\n",
       "      <td>747</td>\n",
       "    </tr>\n",
       "    <tr>\n",
       "      <th>473639</th>\n",
       "      <td>692</td>\n",
       "    </tr>\n",
       "    <tr>\n",
       "      <th>473640</th>\n",
       "      <td>798</td>\n",
       "    </tr>\n",
       "    <tr>\n",
       "      <th>473641</th>\n",
       "      <td>782</td>\n",
       "    </tr>\n",
       "    <tr>\n",
       "      <th>473642</th>\n",
       "      <td>667</td>\n",
       "    </tr>\n",
       "    <tr>\n",
       "      <th>473643</th>\n",
       "      <td>678</td>\n",
       "    </tr>\n",
       "    <tr>\n",
       "      <th>473644</th>\n",
       "      <td>634</td>\n",
       "    </tr>\n",
       "    <tr>\n",
       "      <th>473645</th>\n",
       "      <td>678</td>\n",
       "    </tr>\n",
       "    <tr>\n",
       "      <th>473646</th>\n",
       "      <td>707</td>\n",
       "    </tr>\n",
       "    <tr>\n",
       "      <th>473647</th>\n",
       "      <td>728</td>\n",
       "    </tr>\n",
       "    <tr>\n",
       "      <th>473648</th>\n",
       "      <td>734</td>\n",
       "    </tr>\n",
       "    <tr>\n",
       "      <th>473649</th>\n",
       "      <td>736</td>\n",
       "    </tr>\n",
       "    <tr>\n",
       "      <th>473650</th>\n",
       "      <td>736</td>\n",
       "    </tr>\n",
       "    <tr>\n",
       "      <th>473651</th>\n",
       "      <td>736</td>\n",
       "    </tr>\n",
       "    <tr>\n",
       "      <th>473652</th>\n",
       "      <td>750</td>\n",
       "    </tr>\n",
       "    <tr>\n",
       "      <th>473653</th>\n",
       "      <td>772</td>\n",
       "    </tr>\n",
       "    <tr>\n",
       "      <th>473654</th>\n",
       "      <td>778</td>\n",
       "    </tr>\n",
       "    <tr>\n",
       "      <th>473655</th>\n",
       "      <td>754</td>\n",
       "    </tr>\n",
       "    <tr>\n",
       "      <th>473656</th>\n",
       "      <td>754</td>\n",
       "    </tr>\n",
       "    <tr>\n",
       "      <th>473657</th>\n",
       "      <td>754</td>\n",
       "    </tr>\n",
       "    <tr>\n",
       "      <th>473658</th>\n",
       "      <td>737</td>\n",
       "    </tr>\n",
       "    <tr>\n",
       "      <th>473659</th>\n",
       "      <td>737</td>\n",
       "    </tr>\n",
       "    <tr>\n",
       "      <th>473660</th>\n",
       "      <td>610</td>\n",
       "    </tr>\n",
       "    <tr>\n",
       "      <th>473661</th>\n",
       "      <td>610</td>\n",
       "    </tr>\n",
       "    <tr>\n",
       "      <th>473662</th>\n",
       "      <td>711</td>\n",
       "    </tr>\n",
       "    <tr>\n",
       "      <th>473663</th>\n",
       "      <td>711</td>\n",
       "    </tr>\n",
       "    <tr>\n",
       "      <th>473664</th>\n",
       "      <td>778</td>\n",
       "    </tr>\n",
       "    <tr>\n",
       "      <th>473665</th>\n",
       "      <td>721</td>\n",
       "    </tr>\n",
       "  </tbody>\n",
       "</table>\n",
       "<p>473666 rows × 1 columns</p>\n",
       "</div>"
      ],
      "text/plain": [
       "        SCOREB\n",
       "0          729\n",
       "1          730\n",
       "2          730\n",
       "3          678\n",
       "4          734\n",
       "5          734\n",
       "6          716\n",
       "7          733\n",
       "8          728\n",
       "9          728\n",
       "10         696\n",
       "11         696\n",
       "12         740\n",
       "13         696\n",
       "14         750\n",
       "15         753\n",
       "16         774\n",
       "17         674\n",
       "18         753\n",
       "19         753\n",
       "20         706\n",
       "21         709\n",
       "22         706\n",
       "23         760\n",
       "24         760\n",
       "25         760\n",
       "26         760\n",
       "27         734\n",
       "28         750\n",
       "29         750\n",
       "...        ...\n",
       "473636     686\n",
       "473637     687\n",
       "473638     747\n",
       "473639     692\n",
       "473640     798\n",
       "473641     782\n",
       "473642     667\n",
       "473643     678\n",
       "473644     634\n",
       "473645     678\n",
       "473646     707\n",
       "473647     728\n",
       "473648     734\n",
       "473649     736\n",
       "473650     736\n",
       "473651     736\n",
       "473652     750\n",
       "473653     772\n",
       "473654     778\n",
       "473655     754\n",
       "473656     754\n",
       "473657     754\n",
       "473658     737\n",
       "473659     737\n",
       "473660     610\n",
       "473661     610\n",
       "473662     711\n",
       "473663     711\n",
       "473664     778\n",
       "473665     721\n",
       "\n",
       "[473666 rows x 1 columns]"
      ]
     },
     "execution_count": 5,
     "metadata": {},
     "output_type": "execute_result"
    },
    {
     "data": {
      "text/html": [
       "<div>\n",
       "<style scoped>\n",
       "    .dataframe tbody tr th:only-of-type {\n",
       "        vertical-align: middle;\n",
       "    }\n",
       "\n",
       "    .dataframe tbody tr th {\n",
       "        vertical-align: top;\n",
       "    }\n",
       "\n",
       "    .dataframe thead th {\n",
       "        text-align: right;\n",
       "    }\n",
       "</style>\n",
       "<table border=\"1\" class=\"dataframe\">\n",
       "  <thead>\n",
       "    <tr style=\"text-align: right;\">\n",
       "      <th></th>\n",
       "      <th>bad</th>\n",
       "    </tr>\n",
       "  </thead>\n",
       "  <tbody>\n",
       "    <tr>\n",
       "      <th>0</th>\n",
       "      <td>0</td>\n",
       "    </tr>\n",
       "    <tr>\n",
       "      <th>1</th>\n",
       "      <td>0</td>\n",
       "    </tr>\n",
       "    <tr>\n",
       "      <th>2</th>\n",
       "      <td>0</td>\n",
       "    </tr>\n",
       "    <tr>\n",
       "      <th>3</th>\n",
       "      <td>0</td>\n",
       "    </tr>\n",
       "    <tr>\n",
       "      <th>4</th>\n",
       "      <td>0</td>\n",
       "    </tr>\n",
       "    <tr>\n",
       "      <th>5</th>\n",
       "      <td>0</td>\n",
       "    </tr>\n",
       "    <tr>\n",
       "      <th>6</th>\n",
       "      <td>0</td>\n",
       "    </tr>\n",
       "    <tr>\n",
       "      <th>7</th>\n",
       "      <td>0</td>\n",
       "    </tr>\n",
       "    <tr>\n",
       "      <th>8</th>\n",
       "      <td>0</td>\n",
       "    </tr>\n",
       "    <tr>\n",
       "      <th>9</th>\n",
       "      <td>0</td>\n",
       "    </tr>\n",
       "    <tr>\n",
       "      <th>10</th>\n",
       "      <td>0</td>\n",
       "    </tr>\n",
       "    <tr>\n",
       "      <th>11</th>\n",
       "      <td>0</td>\n",
       "    </tr>\n",
       "    <tr>\n",
       "      <th>12</th>\n",
       "      <td>0</td>\n",
       "    </tr>\n",
       "    <tr>\n",
       "      <th>13</th>\n",
       "      <td>0</td>\n",
       "    </tr>\n",
       "    <tr>\n",
       "      <th>14</th>\n",
       "      <td>0</td>\n",
       "    </tr>\n",
       "    <tr>\n",
       "      <th>15</th>\n",
       "      <td>0</td>\n",
       "    </tr>\n",
       "    <tr>\n",
       "      <th>16</th>\n",
       "      <td>0</td>\n",
       "    </tr>\n",
       "    <tr>\n",
       "      <th>17</th>\n",
       "      <td>0</td>\n",
       "    </tr>\n",
       "    <tr>\n",
       "      <th>18</th>\n",
       "      <td>0</td>\n",
       "    </tr>\n",
       "    <tr>\n",
       "      <th>19</th>\n",
       "      <td>0</td>\n",
       "    </tr>\n",
       "    <tr>\n",
       "      <th>20</th>\n",
       "      <td>0</td>\n",
       "    </tr>\n",
       "    <tr>\n",
       "      <th>21</th>\n",
       "      <td>0</td>\n",
       "    </tr>\n",
       "    <tr>\n",
       "      <th>22</th>\n",
       "      <td>0</td>\n",
       "    </tr>\n",
       "    <tr>\n",
       "      <th>23</th>\n",
       "      <td>0</td>\n",
       "    </tr>\n",
       "    <tr>\n",
       "      <th>24</th>\n",
       "      <td>0</td>\n",
       "    </tr>\n",
       "    <tr>\n",
       "      <th>25</th>\n",
       "      <td>0</td>\n",
       "    </tr>\n",
       "    <tr>\n",
       "      <th>26</th>\n",
       "      <td>0</td>\n",
       "    </tr>\n",
       "    <tr>\n",
       "      <th>27</th>\n",
       "      <td>0</td>\n",
       "    </tr>\n",
       "    <tr>\n",
       "      <th>28</th>\n",
       "      <td>0</td>\n",
       "    </tr>\n",
       "    <tr>\n",
       "      <th>29</th>\n",
       "      <td>0</td>\n",
       "    </tr>\n",
       "    <tr>\n",
       "      <th>...</th>\n",
       "      <td>...</td>\n",
       "    </tr>\n",
       "    <tr>\n",
       "      <th>473636</th>\n",
       "      <td>0</td>\n",
       "    </tr>\n",
       "    <tr>\n",
       "      <th>473637</th>\n",
       "      <td>0</td>\n",
       "    </tr>\n",
       "    <tr>\n",
       "      <th>473638</th>\n",
       "      <td>0</td>\n",
       "    </tr>\n",
       "    <tr>\n",
       "      <th>473639</th>\n",
       "      <td>0</td>\n",
       "    </tr>\n",
       "    <tr>\n",
       "      <th>473640</th>\n",
       "      <td>0</td>\n",
       "    </tr>\n",
       "    <tr>\n",
       "      <th>473641</th>\n",
       "      <td>0</td>\n",
       "    </tr>\n",
       "    <tr>\n",
       "      <th>473642</th>\n",
       "      <td>0</td>\n",
       "    </tr>\n",
       "    <tr>\n",
       "      <th>473643</th>\n",
       "      <td>0</td>\n",
       "    </tr>\n",
       "    <tr>\n",
       "      <th>473644</th>\n",
       "      <td>0</td>\n",
       "    </tr>\n",
       "    <tr>\n",
       "      <th>473645</th>\n",
       "      <td>0</td>\n",
       "    </tr>\n",
       "    <tr>\n",
       "      <th>473646</th>\n",
       "      <td>0</td>\n",
       "    </tr>\n",
       "    <tr>\n",
       "      <th>473647</th>\n",
       "      <td>0</td>\n",
       "    </tr>\n",
       "    <tr>\n",
       "      <th>473648</th>\n",
       "      <td>0</td>\n",
       "    </tr>\n",
       "    <tr>\n",
       "      <th>473649</th>\n",
       "      <td>0</td>\n",
       "    </tr>\n",
       "    <tr>\n",
       "      <th>473650</th>\n",
       "      <td>0</td>\n",
       "    </tr>\n",
       "    <tr>\n",
       "      <th>473651</th>\n",
       "      <td>0</td>\n",
       "    </tr>\n",
       "    <tr>\n",
       "      <th>473652</th>\n",
       "      <td>0</td>\n",
       "    </tr>\n",
       "    <tr>\n",
       "      <th>473653</th>\n",
       "      <td>0</td>\n",
       "    </tr>\n",
       "    <tr>\n",
       "      <th>473654</th>\n",
       "      <td>0</td>\n",
       "    </tr>\n",
       "    <tr>\n",
       "      <th>473655</th>\n",
       "      <td>0</td>\n",
       "    </tr>\n",
       "    <tr>\n",
       "      <th>473656</th>\n",
       "      <td>0</td>\n",
       "    </tr>\n",
       "    <tr>\n",
       "      <th>473657</th>\n",
       "      <td>0</td>\n",
       "    </tr>\n",
       "    <tr>\n",
       "      <th>473658</th>\n",
       "      <td>0</td>\n",
       "    </tr>\n",
       "    <tr>\n",
       "      <th>473659</th>\n",
       "      <td>0</td>\n",
       "    </tr>\n",
       "    <tr>\n",
       "      <th>473660</th>\n",
       "      <td>0</td>\n",
       "    </tr>\n",
       "    <tr>\n",
       "      <th>473661</th>\n",
       "      <td>0</td>\n",
       "    </tr>\n",
       "    <tr>\n",
       "      <th>473662</th>\n",
       "      <td>0</td>\n",
       "    </tr>\n",
       "    <tr>\n",
       "      <th>473663</th>\n",
       "      <td>0</td>\n",
       "    </tr>\n",
       "    <tr>\n",
       "      <th>473664</th>\n",
       "      <td>0</td>\n",
       "    </tr>\n",
       "    <tr>\n",
       "      <th>473665</th>\n",
       "      <td>0</td>\n",
       "    </tr>\n",
       "  </tbody>\n",
       "</table>\n",
       "<p>473666 rows × 1 columns</p>\n",
       "</div>"
      ],
      "text/plain": [
       "        bad\n",
       "0         0\n",
       "1         0\n",
       "2         0\n",
       "3         0\n",
       "4         0\n",
       "5         0\n",
       "6         0\n",
       "7         0\n",
       "8         0\n",
       "9         0\n",
       "10        0\n",
       "11        0\n",
       "12        0\n",
       "13        0\n",
       "14        0\n",
       "15        0\n",
       "16        0\n",
       "17        0\n",
       "18        0\n",
       "19        0\n",
       "20        0\n",
       "21        0\n",
       "22        0\n",
       "23        0\n",
       "24        0\n",
       "25        0\n",
       "26        0\n",
       "27        0\n",
       "28        0\n",
       "29        0\n",
       "...     ...\n",
       "473636    0\n",
       "473637    0\n",
       "473638    0\n",
       "473639    0\n",
       "473640    0\n",
       "473641    0\n",
       "473642    0\n",
       "473643    0\n",
       "473644    0\n",
       "473645    0\n",
       "473646    0\n",
       "473647    0\n",
       "473648    0\n",
       "473649    0\n",
       "473650    0\n",
       "473651    0\n",
       "473652    0\n",
       "473653    0\n",
       "473654    0\n",
       "473655    0\n",
       "473656    0\n",
       "473657    0\n",
       "473658    0\n",
       "473659    0\n",
       "473660    0\n",
       "473661    0\n",
       "473662    0\n",
       "473663    0\n",
       "473664    0\n",
       "473665    0\n",
       "\n",
       "[473666 rows x 1 columns]"
      ]
     },
     "execution_count": 5,
     "metadata": {},
     "output_type": "execute_result"
    }
   ],
   "source": [
    "data_df.describe()\n",
    "x = data_df.drop(['bad'],axis=1)\n",
    "y = data_df.drop(['SCOREB'],axis=1)\n",
    "x\n",
    "y\n"
   ]
  },
  {
   "cell_type": "code",
   "execution_count": 5,
   "metadata": {},
   "outputs": [
    {
     "data": {
      "image/png": "[encoded data removed]",
      "text/plain": [
       "<Figure size 1008x432 with 1 Axes>"
      ]
     },
     "metadata": {
      "needs_background": "light"
     },
     "output_type": "display_data"
    }
   ],
   "source": [
    "plt.figure(figsize = (14,6))\n",
    "plt.title('score - Density Plot')\n",
    "sns.set_color_codes(\"pastel\")\n",
    "sns.distplot(data_df['SCOREA'],kde=True,bins=200, color=\"blue\")\n",
    "plt.show()"
   ]
  },
  {
   "cell_type": "code",
   "execution_count": 6,
   "metadata": {},
   "outputs": [
    {
     "data": {
      "text/html": [
       "<div>\n",
       "<style scoped>\n",
       "    .dataframe tbody tr th:only-of-type {\n",
       "        vertical-align: middle;\n",
       "    }\n",
       "\n",
       "    .dataframe tbody tr th {\n",
       "        vertical-align: top;\n",
       "    }\n",
       "\n",
       "    .dataframe thead th {\n",
       "        text-align: right;\n",
       "    }\n",
       "</style>\n",
       "<table border=\"1\" class=\"dataframe\">\n",
       "  <thead>\n",
       "    <tr style=\"text-align: right;\">\n",
       "      <th></th>\n",
       "      <th>bad</th>\n",
       "    </tr>\n",
       "  </thead>\n",
       "  <tbody>\n",
       "    <tr>\n",
       "      <th>0</th>\n",
       "      <td>281238</td>\n",
       "    </tr>\n",
       "    <tr>\n",
       "      <th>1</th>\n",
       "      <td>2961</td>\n",
       "    </tr>\n",
       "  </tbody>\n",
       "</table>\n",
       "</div>"
      ],
      "text/plain": [
       "      bad\n",
       "0  281238\n",
       "1    2961"
      ]
     },
     "execution_count": 6,
     "metadata": {},
     "output_type": "execute_result"
    },
    {
     "data": {
      "text/html": [
       "<div>\n",
       "<style scoped>\n",
       "    .dataframe tbody tr th:only-of-type {\n",
       "        vertical-align: middle;\n",
       "    }\n",
       "\n",
       "    .dataframe tbody tr th {\n",
       "        vertical-align: top;\n",
       "    }\n",
       "\n",
       "    .dataframe thead th {\n",
       "        text-align: right;\n",
       "    }\n",
       "</style>\n",
       "<table border=\"1\" class=\"dataframe\">\n",
       "  <thead>\n",
       "    <tr style=\"text-align: right;\">\n",
       "      <th></th>\n",
       "      <th>bad</th>\n",
       "    </tr>\n",
       "  </thead>\n",
       "  <tbody>\n",
       "    <tr>\n",
       "      <th>0</th>\n",
       "      <td>187514</td>\n",
       "    </tr>\n",
       "    <tr>\n",
       "      <th>1</th>\n",
       "      <td>1953</td>\n",
       "    </tr>\n",
       "  </tbody>\n",
       "</table>\n",
       "</div>"
      ],
      "text/plain": [
       "      bad\n",
       "0  187514\n",
       "1    1953"
      ]
     },
     "execution_count": 6,
     "metadata": {},
     "output_type": "execute_result"
    }
   ],
   "source": [
    "x_train,x_test,y_train,y_test = train_test_split(x,y,test_size = 0.4,random_state=20)#切分训练集和测试集\n",
    "y_train.apply(pd.value_counts)#统计每个取值的频数\n",
    "y_test.apply(pd.value_counts)\n"
   ]
  },
  {
   "cell_type": "code",
   "execution_count": 7,
   "metadata": {},
   "outputs": [
    {
     "data": {
      "text/plain": [
       "[<matplotlib.lines.Line2D at 0xbb5fbe0>]"
      ]
     },
     "execution_count": 7,
     "metadata": {},
     "output_type": "execute_result"
    },
    {
     "data": {
      "text/plain": [
       "[<matplotlib.lines.Line2D at 0xbb74048>]"
      ]
     },
     "execution_count": 7,
     "metadata": {},
     "output_type": "execute_result"
    },
    {
     "data": {
      "text/plain": [
       "[<matplotlib.lines.Line2D at 0xbb5ffd0>]"
      ]
     },
     "execution_count": 7,
     "metadata": {},
     "output_type": "execute_result"
    },
    {
     "data": {
      "text/plain": [
       "[<matplotlib.lines.Line2D at 0xbb746d8>]"
      ]
     },
     "execution_count": 7,
     "metadata": {},
     "output_type": "execute_result"
    },
    {
     "data": {
      "text/plain": [
       "[<matplotlib.lines.Line2D at 0xbb749e8>]"
      ]
     },
     "execution_count": 7,
     "metadata": {},
     "output_type": "execute_result"
    },
    {
     "data": {
      "text/plain": [
       "<matplotlib.legend.Legend at 0xbb74c88>"
      ]
     },
     "execution_count": 7,
     "metadata": {},
     "output_type": "execute_result"
    },
    {
     "data": {
      "text/plain": [
       "Text(0.5, 0, 'min_samples_leaf')"
      ]
     },
     "execution_count": 7,
     "metadata": {},
     "output_type": "execute_result"
    },
    {
     "data": {
      "text/plain": [
       "Text(0, 0.5, 'AUC')"
      ]
     },
     "execution_count": 7,
     "metadata": {},
     "output_type": "execute_result"
    },
    {
     "data": {
      "image/png": "[encoded data removed]",
      "text/plain": [
       "<Figure size 432x288 with 1 Axes>"
      ]
     },
     "metadata": {
      "needs_background": "light"
     },
     "output_type": "display_data"
    },
    {
     "name": "stdout",
     "output_type": "stream",
     "text": [
      "0:00:37.401139\n"
     ]
    }
   ],
   "source": [
    "#网格搜索，将每种组合都试一下并返回一组AUC值\n",
    "import datetime\n",
    "def gridsearch(max_depth,min_samples_leaf):\n",
    "    tuned_parameters = dict(max_depth=max_depth, min_samples_leaf=min_samples_leaf)\n",
    "    grid_score = []\n",
    "    for i in max_depth:\n",
    "        for j in min_samples_leaf:\n",
    "            clf_final_train = DecisionTreeClassifier(criterion = 'gini',max_depth =i,\n",
    "                                                     min_samples_split = 20000,\n",
    "                                                     min_samples_leaf = j,splitter = 'best',random_state=1)\n",
    "            clf_final_train = clf_final_train.fit(x_train,y_train)\n",
    "            result_train = clf_final_train.predict_proba(x_train)\n",
    "            pro_train=[i[0] for i in result_train]\n",
    "            sample_train=y_train.iloc[:,0]\n",
    "            fpr_train, tpr_train, thresholds_train = metrics.roc_curve(sample_train, pro_train)\n",
    "            result_test = clf_final_train.predict_proba(x_test)\n",
    "            pro_test=[i[0] for i in result_test]\n",
    "            sample_test=y_test.iloc[:,0]\n",
    "            fpr_test, tpr_test, thresholds_test = metrics.roc_curve(sample_test, pro_test)\n",
    "            score_train = [1 - i for i in pro_train]\n",
    "            score_test = [1-i for i in pro_test]\n",
    "            train_auc = metrics.roc_auc_score(sample_train,score_train)#用概率作为计算AUC的预测值\n",
    "            test_auc = metrics.roc_auc_score(sample_test,score_test)\n",
    "            grid_score.append(test_auc)\n",
    "    return grid_score\n",
    "start = datetime.datetime.now()#计算函数运算时间\n",
    "max_depth = range(1,6,1)\n",
    "min_samples_leaf = range(5000,25000,5000)\n",
    "grid_score = gridsearch(max_depth,min_samples_leaf)\n",
    "test_scores = np.array(grid_score).reshape(len(max_depth),len(min_samples_leaf))\n",
    "for i, value in enumerate(max_depth):\n",
    "    plt.plot(min_samples_leaf, test_scores[i], label= 'max_depth:'   + str(value))\n",
    "plt.legend()\n",
    "plt.xlabel( 'min_samples_leaf' )                                                                                                      \n",
    "plt.ylabel( 'AUC' )\n",
    "plt.show()        \n",
    "end = datetime.datetime.now()\n",
    "print(end - start)"
   ]
  },
  {
   "cell_type": "code",
   "execution_count": 8,
   "metadata": {},
   "outputs": [],
   "source": [
    "from sklearn.metrics import roc_curve, auc\n",
    "from sklearn.metrics import classification_report\n",
    "clf_final_train_gini = DecisionTreeClassifier(criterion = 'gini',max_depth =3,min_samples_split = 20000,\n",
    "                                              min_samples_leaf = 10000,splitter = 'best',random_state=1)\n",
    "clf_final_train_gini = clf_final_train_gini.fit(x_train,y_train)\n",
    "clf_final_train_entro = DecisionTreeClassifier(criterion = 'entropy',max_depth =3,min_samples_split = 20000,\n",
    "                                               min_samples_leaf = 10000,splitter = 'best',random_state=1)\n",
    "clf_final_train_entro = clf_final_train_entro.fit(x_train,y_train)\n",
    "clf_final_train = DecisionTreeClassifier(criterion = 'entropy',max_depth =3,min_samples_split = 20000,\n",
    "                                         min_samples_leaf = 10000,splitter = 'best',random_state=1)\n",
    "clf_final_train = clf_final_train.fit(x_train,y_train)\n"
   ]
  },
  {
   "cell_type": "code",
   "execution_count": 38,
   "metadata": {
    "scrolled": true
   },
   "outputs": [
    {
     "data": {
      "text/plain": [
       "array([[9.93418244e-01, 6.58175608e-03],\n",
       "       [9.93418244e-01, 6.58175608e-03],\n",
       "       [9.99563160e-01, 4.36840189e-04],\n",
       "       ...,\n",
       "       [9.93418244e-01, 6.58175608e-03],\n",
       "       [9.98025421e-01, 1.97457878e-03],\n",
       "       [9.99563160e-01, 4.36840189e-04]])"
      ]
     },
     "execution_count": 38,
     "metadata": {},
     "output_type": "execute_result"
    },
    {
     "data": {
      "text/plain": [
       "array([[9.99563160e-01, 4.36840189e-04],\n",
       "       [9.93418244e-01, 6.58175608e-03],\n",
       "       [9.06448683e-01, 9.35513170e-02],\n",
       "       ...,\n",
       "       [9.93418244e-01, 6.58175608e-03],\n",
       "       [9.99563160e-01, 4.36840189e-04],\n",
       "       [9.98025421e-01, 1.97457878e-03]])"
      ]
     },
     "execution_count": 38,
     "metadata": {},
     "output_type": "execute_result"
    },
    {
     "data": {
      "text/plain": [
       "array([ 9,  9, 12, ...,  9, 11, 12], dtype=int64)"
      ]
     },
     "execution_count": 38,
     "metadata": {},
     "output_type": "execute_result"
    }
   ],
   "source": [
    "clf_final_train.predict_proba(x_train)\n",
    "clf_final_train.predict_proba(x_test)\n",
    "clf_final_train.apply(x_train)#得到每个样本所属叶子节点的编号"
   ]
  },
  {
   "cell_type": "code",
   "execution_count": 9,
   "metadata": {},
   "outputs": [
    {
     "name": "stdout",
     "output_type": "stream",
     "text": [
      "{9: 0.006581756083677245, 12: 0.0004368401892974154, 4: 0.044575936883629194, 2: 0.09355131698455948, 5: 0.023025246505580237, 11: 0.0019745787762341115, 8: 0.013864768683274022}\n",
      "Counter({11: 84575, 12: 68675, 9: 56216, 8: 35125, 5: 18458, 2: 11010, 4: 10140})\n"
     ]
    },
    {
     "data": {
      "text/plain": [
       "array([[[2.81238e+05, 2.96100e+03]],\n",
       "\n",
       "       [[3.77010e+04, 1.90700e+03]],\n",
       "\n",
       "       [[9.98000e+03, 1.03000e+03]],\n",
       "\n",
       "       [[2.77210e+04, 8.77000e+02]],\n",
       "\n",
       "       [[9.68800e+03, 4.52000e+02]],\n",
       "\n",
       "       [[1.80330e+04, 4.25000e+02]],\n",
       "\n",
       "       [[2.43537e+05, 1.05400e+03]],\n",
       "\n",
       "       [[9.04840e+04, 8.57000e+02]],\n",
       "\n",
       "       [[3.46380e+04, 4.87000e+02]],\n",
       "\n",
       "       [[5.58460e+04, 3.70000e+02]],\n",
       "\n",
       "       [[1.53053e+05, 1.97000e+02]],\n",
       "\n",
       "       [[8.44080e+04, 1.67000e+02]],\n",
       "\n",
       "       [[6.86450e+04, 3.00000e+01]]])"
      ]
     },
     "execution_count": 9,
     "metadata": {},
     "output_type": "execute_result"
    },
    {
     "name": "stdout",
     "output_type": "stream",
     "text": [
      "0:00:00.297017\n"
     ]
    }
   ],
   "source": [
    "#计算由训练集得到的叶子节点的频数和违约率\n",
    "import datetime\n",
    "def get_train_values_of_pools(data):\n",
    "    dict_proba = {}\n",
    "    result = clf_final_train.apply(data)\n",
    "    proba = clf_final_train.predict_proba(data)\n",
    "    dict_number = Counter(clf_final_train.apply(data))\n",
    "    for i in range(0,len(result)):\n",
    "        dict_proba[result[i]] = proba[i][1]\n",
    "        if len(dict_proba.keys()) == len(dict_number.keys()):\n",
    "            break\n",
    "    return dict_proba, dict_number\n",
    "start = datetime.datetime.now()\n",
    "dict_proba, dict_number = get_train_values_of_pools(x_train) \n",
    "print(dict_proba)\n",
    "print(dict_number)\n",
    "clf_final_train.tree_.__getstate__()['values']\n",
    "end = datetime.datetime.now()\n",
    "print(end-start)\n",
    "    \n",
    "    "
   ]
  },
  {
   "cell_type": "code",
   "execution_count": 177,
   "metadata": {},
   "outputs": [
    {
     "name": "stdout",
     "output_type": "stream",
     "text": [
      "{7: 0.985361683940592, 5: 0.9943541220136964, 6: 0.9977595600590662, 8: 0.9903986981285599, 3: 0.9720419370943585}\n",
      "{7: 9359, 5: 57387, 6: 39278, 8: 18435, 3: 2003}\n"
     ]
    },
    {
     "data": {
      "text/plain": [
       "array([( 1,  2,  0, 645.5, 0.01229088, 126462, 126462.),\n",
       "       ( 3,  4,  0, 575.5, 0.02452633,  29797,  29797.),\n",
       "       ( 5,  6,  0, 700.5, 0.00848795,  96665,  96665.),\n",
       "       (-1, -1, -2,  -2. , 0.05435282,   2003,   2003.),\n",
       "       ( 7,  8,  0, 617.5, 0.02233954,  27794,  27794.),\n",
       "       (-1, -1, -2,  -2. , 0.011228  ,  57387,  57387.),\n",
       "       (-1, -1, -2,  -2. , 0.00447084,  39278,  39278.),\n",
       "       (-1, -1, -2,  -2. , 0.02884807,   9359,   9359.),\n",
       "       (-1, -1, -2,  -2. , 0.01901823,  18435,  18435.)],\n",
       "      dtype=[('left_child', '<i8'), ('right_child', '<i8'), ('feature', '<i8'), ('threshold', '<f8'), ('impurity', '<f8'), ('n_node_samples', '<i8'), ('weighted_n_node_samples', '<f8')])"
      ]
     },
     "execution_count": 177,
     "metadata": {},
     "output_type": "execute_result"
    },
    {
     "name": "stdout",
     "output_type": "stream",
     "text": [
      "0:35:28.237417\n"
     ]
    }
   ],
   "source": [
    "#第一次的方法\n",
    "def get_values_of_pools(data):\n",
    "    dict_proba = {}\n",
    "    dict_number = {}\n",
    "    for i in range(0,len(clf_final_train.apply(data))):\n",
    "        if clf_final_train.apply(data)[i] not in dict_proba.keys():\n",
    "            dict_proba[clf_final_train.apply(data)[i]] = clf_final_train.predict_proba(data)[i][0]\n",
    "            dict_number[clf_final_train.apply(data)[i]] = 1\n",
    "        else:\n",
    "            dict_number[clf_final_train.apply(data)[i]] += 1\n",
    "    return dict_proba, dict_number\n",
    "import datetime\n",
    "start = datetime.datetime.now()\n",
    "dict_proba, dict_number = get_values_of_pools(x_train) \n",
    "print(dict_proba)\n",
    "print(dict_number)\n",
    "clf_final_train.tree_.__getstate__()['nodes']\n",
    "end = datetime.datetime.now()\n",
    "print(end-start)"
   ]
  },
  {
   "cell_type": "code",
   "execution_count": 10,
   "metadata": {},
   "outputs": [
    {
     "data": {
      "text/plain": [
       "{9: 0.006538436570535983,\n",
       " 12: 0.00043664935994605126,\n",
       " 4: 0.042588922734574146,\n",
       " 2: 0.08479946807502442,\n",
       " 5: 0.02249508452894568,\n",
       " 11: 0.001970679814890752,\n",
       " 8: 0.013672536872623597}"
      ]
     },
     "execution_count": 10,
     "metadata": {},
     "output_type": "execute_result"
    },
    {
     "name": "stdout",
     "output_type": "stream",
     "text": [
      "0:00:12.939740\n"
     ]
    }
   ],
   "source": [
    "#计算由训练集得到的每个叶子节点的方差\n",
    "def get_variance_dict(x_train,y_train,dict_proba,dict_number):\n",
    "    dict_var = {}\n",
    "    result = clf_final_train.apply(x_train)\n",
    "    for keys in dict_proba.keys():\n",
    "        dict_var[keys] = 0#将字典里的值初始化为0\n",
    "    for i in range(0,len(x_train)):\n",
    "        dict_var[result[i]] += np.square(y_train.iloc[i,0] - (dict_proba[result[i]])) #计算字典里的和\n",
    "    for keys in dict_var.keys():\n",
    "        dict_var[keys] = dict_var[keys]/dict_number[keys]#对每个和除以频数作为方差\n",
    "    return dict_var\n",
    "start = datetime.datetime.now()\n",
    "var = get_variance_dict(x_train,y_train,dict_proba,dict_number)\n",
    "end = datetime.datetime.now()\n",
    "var\n",
    "print(end-start)\n",
    "        \n",
    "        "
   ]
  },
  {
   "cell_type": "code",
   "execution_count": 11,
   "metadata": {},
   "outputs": [
    {
     "name": "stdout",
     "output_type": "stream",
     "text": [
      "{12: 0.0003726844239833388, 9: 0.006596306068601583, 2: 0.09127679654846974, 8: 0.013585784525144484, 11: 0.0021231043710972348, 5: 0.02132569427866635, 4: 0.04560308972073678}\n",
      "Counter({11: 56050, 12: 45615, 9: 37900, 8: 23186, 5: 12567, 2: 7417, 4: 6732})\n",
      "0:00:04.939283\n"
     ]
    }
   ],
   "source": [
    "#计算由测试集得到的叶子节点频数和违约率\n",
    "def get_test_avg_dict(x_test,y_test):\n",
    "    dict_test_avg = {}\n",
    "    result = clf_final_train.apply(x_test)\n",
    "    dict_test_number = Counter(result)\n",
    "    for i in range(0,len(result)):\n",
    "        if result[i] not in dict_test_avg:\n",
    "            dict_test_avg[result[i]] = y_test.iloc[i,0]\n",
    "        else:\n",
    "            dict_test_avg[result[i]] += y_test.iloc[i,0]\n",
    "    for keys in dict_test_number.keys():\n",
    "        dict_test_avg[keys] = (dict_test_avg[keys]/dict_test_number[keys])\n",
    "    return dict_test_avg,dict_test_number\n",
    "\n",
    "start = datetime.datetime.now()\n",
    "dict_test_avg,dict_test_number = get_test_avg_dict(x_test,y_test)\n",
    "print(dict_test_avg)\n",
    "print(dict_test_number)\n",
    "end = datetime.datetime.now()        \n",
    "print(end-start)    \n",
    "    "
   ]
  },
  {
   "cell_type": "code",
   "execution_count": 12,
   "metadata": {},
   "outputs": [
    {
     "data": {
      "text/plain": [
       "{9: 0.010510439219999543,\n",
       " 12: 0.010405618446386534,\n",
       " 4: 0.01125937735327608,\n",
       " 2: 0.017368881842979425,\n",
       " 5: 0.010586667572894217,\n",
       " 11: 0.010681546440062983,\n",
       " 8: 0.009331325803175331}"
      ]
     },
     "execution_count": 12,
     "metadata": {},
     "output_type": "execute_result"
    },
    {
     "name": "stdout",
     "output_type": "stream",
     "text": [
      "0:00:09.438540\n"
     ]
    }
   ],
   "source": [
    "#计算由测试集得到的每个叶子节点的方差\n",
    "def get_test_variance_dict(x_test,y_test,dict_test_avg,dict_test_number):\n",
    "    dict_var = {}\n",
    "    result = clf_final_train.apply(x_test)\n",
    "    for keys in dict_proba.keys():\n",
    "        dict_var[keys] = 0\n",
    "    for i in range(0,len(x_test)):\n",
    "        dict_var[result[i]] += np.square(y_train.iloc[i,0] - (dict_test_avg[result[i]])) \n",
    "    for keys in dict_var.keys():\n",
    "        dict_var[keys] = dict_var[keys]/dict_test_number[keys]\n",
    "    return dict_var\n",
    "start = datetime.datetime.now()\n",
    "var_test = get_test_variance_dict(x_test,y_test,dict_test_avg,dict_test_number)\n",
    "end = datetime.datetime.now()\n",
    "var_test\n",
    "print(end-start)"
   ]
  },
  {
   "cell_type": "code",
   "execution_count": 13,
   "metadata": {},
   "outputs": [
    {
     "name": "stdout",
     "output_type": "stream",
     "text": [
      "{12: (-0.0005634284112486483, 0.0013087972592153259), 9: (0.005564165333338784, 0.007628446803864383), 2: (0.08827749672542494, 0.09427609637151453), 8: (0.012342396009396262, 0.014829173040892705), 11: (0.0012674914212724732, 0.002978717320921996), 5: (0.01952677398301711, 0.02312461457431559), 4: (0.043068350851295865, 0.0481378285901777)}\n",
      "0:00:00.168009\n"
     ]
    }
   ],
   "source": [
    "#计算每个叶子节点的置信区间\n",
    "def get_confident_interval(alpha,dict_test_avg,var_test,dict_test_number):\n",
    "    dict_confi_interval = {}\n",
    "    for keys in dict_test_avg.keys():\n",
    "        dict_confi_interval[keys] = stats.norm.interval(alpha,loc = dict_test_avg[keys],scale = np.sqrt((var_test[keys])/dict_test_number[keys]))\n",
    "    return dict_confi_interval\n",
    "start = datetime.datetime.now()\n",
    "interval = get_confident_interval(0.95,dict_test_avg,var_test,dict_test_number)\n",
    "print(interval)\n",
    "end = datetime.datetime.now()\n",
    "print(end - start)\n",
    "    \n",
    "    "
   ]
  },
  {
   "cell_type": "code",
   "execution_count": 14,
   "metadata": {},
   "outputs": [
    {
     "name": "stdout",
     "output_type": "stream",
     "text": [
      "7\n"
     ]
    }
   ],
   "source": [
    "def leaf_test(interval,dict_proba):\n",
    "    number = 0\n",
    "    for keys in dict_proba.keys():\n",
    "        if dict_proba[keys]>=interval[keys][0] and dict_proba[keys]<=interval[keys][1]:\n",
    "            number += 1\n",
    "    return number\n",
    "result = leaf_test(interval,dict_proba)\n",
    "print(result)\n",
    "        \n",
    "    "
   ]
  },
  {
   "cell_type": "code",
   "execution_count": 16,
   "metadata": {},
   "outputs": [
    {
     "name": "stdout",
     "output_type": "stream",
     "text": [
      "{11: (0.0030320713147174855, 0.00453119834493538), 5: (0.02723541990880698, 0.03033850887815741), 12: (-0.0001818347512894822, 0.0015669772751649652), 9: (0.008977700990647063, 0.010747283314421895), 2: (0.08707089518282421, 0.09245382606956909), 8: (0.01793443883277169, 0.02017123833283649), 4: (0.045559024321489734, 0.049797432576035965)}\n",
      "{9: 0.006581756083677245, 12: 0.0004368401892974154, 4: 0.044575936883629194, 2: 0.09355131698455948, 5: 0.023025246505580237, 11: 0.0019745787762341115, 8: 0.013864768683274022}\n",
      "0:00:17.017974\n"
     ]
    }
   ],
   "source": [
    "#时间外样本检验\n",
    "data_Test = pd.read_csv('old_test.csv')\n",
    "#data_Test.head()\n",
    "xTest = data_Test.drop(['bad'],axis=1)\n",
    "yTest = data_Test.drop(['SCOREB'],axis=1)\n",
    "start = datetime.datetime.now()\n",
    "dict_Test_avg,dict_Test_number = get_test_avg_dict(xTest,yTest)\n",
    "var_Test = get_test_variance_dict(xTest,yTest,dict_Test_avg,dict_Test_number)\n",
    "interval_Test = get_confident_interval(0.95,dict_Test_avg,var_Test,dict_Test_number)\n",
    "result_Test = leaf_test(interval_Test,dict_proba)\n",
    "#print(dict_Test_avg)\n",
    "#print(dict_Test_number)\n",
    "#print(var_Test)\n",
    "print(interval_Test)\n",
    "#print(result_Test)\n",
    "print(dict_proba)\n",
    "end = datetime.datetime.now()        \n",
    "print(end-start)"
   ]
  },
  {
   "cell_type": "code",
   "execution_count": 47,
   "metadata": {},
   "outputs": [
    {
     "data": {
      "text/plain": [
       "<matplotlib.legend.Legend at 0x8466908>"
      ]
     },
     "execution_count": 47,
     "metadata": {},
     "output_type": "execute_result"
    },
    {
     "data": {
      "image/png": "[encoded data removed]",
      "text/plain": [
       "<Figure size 432x288 with 1 Axes>"
      ]
     },
     "metadata": {
      "needs_background": "light"
     },
     "output_type": "display_data"
    },
    {
     "name": "stdout",
     "output_type": "stream",
     "text": [
      "训练集AUC： 0.8513529810789133\n",
      "测试集AUC： 0.8490317863741852\n"
     ]
    }
   ],
   "source": [
    "#画出模型训练集和测试集的ROC曲线\n",
    "result_train = clf_final_train.predict_proba(x_train)\n",
    "pro_train=[i[0] for i in result_train]\n",
    "sample_train=y_train.iloc[:,0]\n",
    "fpr_train, tpr_train, thresholds_train = metrics.roc_curve(sample_train, pro_train)\n",
    "result_test = clf_final_train.predict_proba(x_test)\n",
    "pro_test=[i[0] for i in result_test]\n",
    "sample_test=y_test.iloc[:,0]\n",
    "fpr_test, tpr_test, thresholds_test = metrics.roc_curve(sample_test, pro_test)\n",
    "from matplotlib.legend_handler import HandlerLine2D\n",
    "line1, = plt.plot(tpr_test, fpr_test, 'b', label=\"Test ROC\")\n",
    "line2, = plt.plot(tpr_train, fpr_train, 'r', label=\"Train ROC\")\n",
    "plt.legend()\n",
    "plt.show()\n",
    "score_train = [1 - i for i in pro_train]\n",
    "score_test = [1-i for i in pro_test]\n",
    "train_auc = metrics.roc_auc_score(sample_train,score_train)\n",
    "test_auc = metrics.roc_auc_score(sample_test,score_test)\n",
    "print('训练集AUC：',train_auc)\n",
    "print('测试集AUC：',test_auc)"
   ]
  },
  {
   "cell_type": "code",
   "execution_count": 17,
   "metadata": {},
   "outputs": [
    {
     "data": {
      "text/plain": [
       "True"
      ]
     },
     "execution_count": 17,
     "metadata": {},
     "output_type": "execute_result"
    },
    {
     "data": {
      "image/png": "[encoded data removed]",
      "text/plain": [
       "<IPython.core.display.Image object>"
      ]
     },
     "execution_count": 17,
     "metadata": {},
     "output_type": "execute_result"
    }
   ],
   "source": [
    "#\n",
    "from sklearn.tree import export_graphviz\n",
    "from sklearn.externals.six import StringIO\n",
    "from IPython.display import Image\n",
    "import pydotplus\n",
    "import sys\n",
    "import os       \n",
    "os.environ[\"PATH\"] += os.pathsep + 'D:\\anaconda\\Library\\bin\\graphviz'\n",
    "dot_data = StringIO()\n",
    "export_graphviz(clf_final_train_entro,out_file=dot_data,proportion =True,filled=True,rounded=True,special_characters=True,class_names=['0','1'])\n",
    "graph = pydotplus.graph_from_dot_data(dot_data.getvalue())\n",
    "graph.write_png('entro.png')\n",
    "Image(graph.create_png())\n"
   ]
  },
  {
   "cell_type": "code",
   "execution_count": 50,
   "metadata": {},
   "outputs": [
    {
     "data": {
      "text/plain": [
       "(array([238672.,      0.,      0.,      0.,      0.,      0.,      0.,\n",
       "             0.,      0.,   3085.]),\n",
       " array([0. , 0.1, 0.2, 0.3, 0.4, 0.5, 0.6, 0.7, 0.8, 0.9, 1. ]),\n",
       " <a list of 10 Patch objects>)"
      ]
     },
     "execution_count": 50,
     "metadata": {},
     "output_type": "execute_result"
    },
    {
     "data": {
      "image/png": "[encoded data removed]",
      "text/plain": [
       "<Figure size 432x288 with 1 Axes>"
      ]
     },
     "metadata": {
      "needs_background": "light"
     },
     "output_type": "display_data"
    }
   ],
   "source": [
    "plt.hist(data_test.bad)"
   ]
  },
  {
   "cell_type": "code",
   "execution_count": 68,
   "metadata": {},
   "outputs": [
    {
     "name": "stderr",
     "output_type": "stream",
     "text": [
      "D:\\anaconda\\lib\\site-packages\\sklearn\\utils\\validation.py:761: DataConversionWarning: A column-vector y was passed when a 1d array was expected. Please change the shape of y to (n_samples, ), for example using ravel().\n",
      "  y = column_or_1d(y, warn=True)\n"
     ]
    },
    {
     "data": {
      "text/plain": [
       "array([0.54197571, 0.53163853, 0.51959286, ..., 0.53163853, 0.54575244,\n",
       "       0.54162035])"
      ]
     },
     "execution_count": 68,
     "metadata": {},
     "output_type": "execute_result"
    },
    {
     "data": {
      "text/plain": [
       "0.14351572894470505"
      ]
     },
     "execution_count": 68,
     "metadata": {},
     "output_type": "execute_result"
    }
   ],
   "source": [
    "clf = AdaBoostClassifier(random_state=1,algorithm='SAMME',,learning_rate=0.8,n_estimators=50)\n",
    "clf=clf.fit(x_train,y_train)\n",
    "clf.predict_proba(x_test)[:,0]\n",
    "roc_auc_score(y_test,clf.predict_proba(x_test)[:,0])"
   ]
  },
  {
   "cell_type": "code",
   "execution_count": 62,
   "metadata": {},
   "outputs": [
    {
     "data": {
      "text/plain": [
       "0.9897185261813403"
      ]
     },
     "execution_count": 62,
     "metadata": {},
     "output_type": "execute_result"
    },
    {
     "data": {
      "text/plain": [
       "array([[0.54197571, 0.45802429],\n",
       "       [0.53163853, 0.46836147],\n",
       "       [0.51959286, 0.48040714],\n",
       "       ...,\n",
       "       [0.53163853, 0.46836147],\n",
       "       [0.54575244, 0.45424756],\n",
       "       [0.54162035, 0.45837965]])"
      ]
     },
     "execution_count": 62,
     "metadata": {},
     "output_type": "execute_result"
    },
    {
     "data": {
      "text/plain": [
       "array([[0.53114019, 0.46885981],\n",
       "       [0.53114019, 0.46885981],\n",
       "       [0.54575244, 0.45424756],\n",
       "       ...,\n",
       "       [0.53308922, 0.46691078],\n",
       "       [0.54162035, 0.45837965],\n",
       "       [0.54575244, 0.45424756]])"
      ]
     },
     "execution_count": 62,
     "metadata": {},
     "output_type": "execute_result"
    }
   ],
   "source": [
    "\n",
    "    \n",
    "    \n"
   ]
  }
 ],
 "metadata": {
  "kernelspec": {
   "display_name": "Python 3",
   "language": "python",
   "name": "python3"
  },
  "language_info": {
   "codemirror_mode": {
    "name": "ipython",
    "version": 3
   },
   "file_extension": ".py",
   "mimetype": "text/x-python",
   "name": "python",
   "nbconvert_exporter": "python",
   "pygments_lexer": "ipython3",
   "version": "3.7.3"
  }
 },
 "nbformat": 4,
 "nbformat_minor": 2
}
